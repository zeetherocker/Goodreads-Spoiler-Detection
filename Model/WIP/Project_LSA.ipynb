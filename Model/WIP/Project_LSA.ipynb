{
 "cells": [
  {
   "cell_type": "code",
   "execution_count": 1,
   "metadata": {},
   "outputs": [
    {
     "name": "stderr",
     "output_type": "stream",
     "text": [
      "C:\\Users\\Gautam\\Anaconda3\\lib\\site-packages\\numpy\\core\\__init__.py:29: UserWarning: loaded more than 1 DLL from .libs:\n",
      "C:\\Users\\Gautam\\Anaconda3\\lib\\site-packages\\numpy\\.libs\\libopenblas.CSRRD7HKRKC3T3YXA7VY7TAZGLSWDKW6.gfortran-win_amd64.dll\n",
      "C:\\Users\\Gautam\\Anaconda3\\lib\\site-packages\\numpy\\.libs\\libopenblas.IPBC74C7KURV7CB2PKT5Z5FNR3SIBV4J.gfortran-win_amd64.dll\n",
      "  stacklevel=1)\n"
     ]
    }
   ],
   "source": [
    "import gzip\n",
    "import json\n",
    "import re\n",
    "import os\n",
    "import sys\n",
    "import numpy as np\n",
    "import pandas as pd"
   ]
  },
  {
   "cell_type": "code",
   "execution_count": 2,
   "metadata": {},
   "outputs": [],
   "source": [
    "DIR = 'C:/Users/Gautam/Desktop/Third_Semester/Large Scale Analytics/Datasets'"
   ]
  },
  {
   "cell_type": "code",
   "execution_count": 3,
   "metadata": {},
   "outputs": [],
   "source": [
    "def load_data(file_name):\n",
    "    count = 0\n",
    "    data = []\n",
    "    with gzip.open(file_name) as fin:\n",
    "        for l in fin:\n",
    "            d = json.loads(l)\n",
    "            count += 1\n",
    "            data.append(d)\n",
    "            if count==5000:\n",
    "                break\n",
    "            \n",
    "    return data"
   ]
  },
  {
   "cell_type": "code",
   "execution_count": 4,
   "metadata": {},
   "outputs": [],
   "source": [
    "spoilers = load_data(os.path.join(DIR, 'goodreads_reviews_spoiler.json.gz'))"
   ]
  },
  {
   "cell_type": "code",
   "execution_count": 5,
   "metadata": {},
   "outputs": [
    {
     "data": {
      "text/plain": [
       "{'user_id': '68f9915717ccc347b5f46f1b11ec40fe',\n",
       " 'timestamp': '2015-09-20',\n",
       " 'review_sentences': [[0, '3.5 Not such a lady stars!'],\n",
       "  [0, 'Source: eARC for Honest Review Courtesy of St.'],\n",
       "  [0, \"Martin's Press via NetGalley\"],\n",
       "  [0,\n",
       "   'So a bounty hunter and a fugitive walk into a bar ...  At first this seems like it is a beginning of a joke but what it is, is a couple from opposites sides but fighting for the same thing.'],\n",
       "  [0,\n",
       "   \"Grace is supposed to be a kick ass bounty hunter but has to fight to be appreciated,  being a girl in a man's profession.\"],\n",
       "  [0,\n",
       "   'Finally getting the chance to show her worth she has to bring in Raide Knox.'],\n",
       "  [0, \"The problem is that she's already met Raide and sparks flew.\"],\n",
       "  [0,\n",
       "   'How does she bring in a man who not only makes her flutter but is also way larger than her.'],\n",
       "  [0,\n",
       "   'She decides to seduce him as her plan, but first she has to follow him to get an idea of what makes him tick.'],\n",
       "  [0,\n",
       "   \"Silence now, and Raide stops right beside the bush I'm hiding pathetically behind.\"],\n",
       "  [0, 'I hold my breathe and try not to move.'],\n",
       "  [0, \"It really wouldn't look good if he found me like this.\"],\n",
       "  [0, 'I close my eyes.'],\n",
       "  [0, 'I hope my cupcake is okay.'],\n",
       "  [0, 'Dammit, I really wanted it.'],\n",
       "  [0,\n",
       "   'The more she follows and runs into Raide, the more she falls for his charms.'],\n",
       "  [0, \"The problem is that she's lying to him while she gets closer to him.\"],\n",
       "  [0,\n",
       "   'Where as Raide for the most part is an open book without a hidden agenda.'],\n",
       "  [0, 'Even though he wants revenge he also wants Grace.'],\n",
       "  [0, \"Now he's trying to figure out how he can get both.\"],\n",
       "  [0,\n",
       "   '\"There doesn\\'t need to be music for two people to move together and make somethin\\' special.\"'],\n",
       "  [0, 'Right and wrong?'],\n",
       "  [0, 'Tough choices when your heart is on the line.'],\n",
       "  [0, 'you should always fight for what you love.\"'],\n",
       "  [0,\n",
       "   'The longer the gig goes the more Grace loses her heart to Raide, but turns into a hypocrite where truths lie.'],\n",
       "  [0, \"I know I'm not being fair, because I'm as big as  liar as Raide.\"],\n",
       "  [0,\n",
       "   'These two may have met for the wrong reasons but they want to be together for the right ones.'],\n",
       "  [0, 'How can they make it work?'],\n",
       "  [0, 'For the most part I did quite like this book.'],\n",
       "  [0,\n",
       "   \"It was my first Bella Jewel book (insert gasp here) but it won't be my last one as I was engaged and liked her characters.\"],\n",
       "  [0, \"What didn't work for me was a few things.\"],\n",
       "  [0, \"1)The endearment 'Lady'.\"],\n",
       "  [0,\n",
       "   \"I gotta admit there's just nothing sexy or endearing about this title.\"],\n",
       "  [0,\n",
       "   \"I don't know why but for me it does the complete opposite effect I assume it's going for.\"],\n",
       "  [0, 'Every time I hear it I cringe a bit.'],\n",
       "  [0, '\"I never said I was goin\\' to kiss your lips, lady.\"'],\n",
       "  [0,\n",
       "   '2)Mostly Grace was a strong character but her continuous crying made her a'],\n",
       "  [0, 'bit weaker for me.'],\n",
       "  [0,\n",
       "   \"Don't get me wrong I don't think crying is weak at all, but she was like a bloody leaking faucet with her crying, that it\"],\n",
       "  [0, 'again did the opposite effect for me'],\n",
       "  [0, 'Did I love Grace and Raide together?'],\n",
       "  [0, \"I liked them but didn't love them.\"],\n",
       "  [0, 'They had hi and low moments for me during the story.'],\n",
       "  [0, 'Did I like this book?'],\n",
       "  [0,\n",
       "   'Yes but I think I liked the idea of the story more than the actual story.'],\n",
       "  [0, 'Will I continue with this series?'],\n",
       "  [0, 'Yes.'],\n",
       "  [0, 'Will I read more from Bella Jewel?'],\n",
       "  [0, 'Definitely.'],\n",
       "  [0,\n",
       "   'All quotes taken from pre-published eARC & may be altered or omitted in the final copy.'],\n",
       "  [0, 'For more reviews, visit Live Read and Breathe'],\n",
       "  [0, 'Like us on Facebook Live Read and Breathe Facebook'],\n",
       "  [0, 'Follow along with Twitter Live Read and Breathe Twitter']],\n",
       " 'rating': 3,\n",
       " 'has_spoiler': False,\n",
       " 'book_id': '25392083',\n",
       " 'review_id': 'a672b7cce72af4047a2553e387015f9c'}"
      ]
     },
     "execution_count": 5,
     "metadata": {},
     "output_type": "execute_result"
    }
   ],
   "source": [
    "np.random.choice(spoilers)"
   ]
  },
  {
   "cell_type": "code",
   "execution_count": 6,
   "metadata": {},
   "outputs": [],
   "source": [
    "data=pd.DataFrame(data=spoilers)"
   ]
  },
  {
   "cell_type": "code",
   "execution_count": 7,
   "metadata": {},
   "outputs": [
    {
     "data": {
      "text/html": [
       "<div>\n",
       "<style scoped>\n",
       "    .dataframe tbody tr th:only-of-type {\n",
       "        vertical-align: middle;\n",
       "    }\n",
       "\n",
       "    .dataframe tbody tr th {\n",
       "        vertical-align: top;\n",
       "    }\n",
       "\n",
       "    .dataframe thead th {\n",
       "        text-align: right;\n",
       "    }\n",
       "</style>\n",
       "<table border=\"1\" class=\"dataframe\">\n",
       "  <thead>\n",
       "    <tr style=\"text-align: right;\">\n",
       "      <th></th>\n",
       "      <th>book_id</th>\n",
       "      <th>has_spoiler</th>\n",
       "      <th>rating</th>\n",
       "      <th>review_id</th>\n",
       "      <th>review_sentences</th>\n",
       "      <th>timestamp</th>\n",
       "      <th>user_id</th>\n",
       "    </tr>\n",
       "  </thead>\n",
       "  <tbody>\n",
       "    <tr>\n",
       "      <th>0</th>\n",
       "      <td>18245960</td>\n",
       "      <td>True</td>\n",
       "      <td>5</td>\n",
       "      <td>dfdbb7b0eb5a7e4c26d59a937e2e5feb</td>\n",
       "      <td>[[0, This is a special book.], [0, It started ...</td>\n",
       "      <td>2017-08-30</td>\n",
       "      <td>8842281e1d1347389f2ab93d60773d4d</td>\n",
       "    </tr>\n",
       "    <tr>\n",
       "      <th>1</th>\n",
       "      <td>16981</td>\n",
       "      <td>False</td>\n",
       "      <td>3</td>\n",
       "      <td>a5d2c3628987712d0e05c4f90798eb67</td>\n",
       "      <td>[[0, Recommended by Don Katz.], [0, Avail for ...</td>\n",
       "      <td>2017-03-22</td>\n",
       "      <td>8842281e1d1347389f2ab93d60773d4d</td>\n",
       "    </tr>\n",
       "    <tr>\n",
       "      <th>2</th>\n",
       "      <td>28684704</td>\n",
       "      <td>True</td>\n",
       "      <td>3</td>\n",
       "      <td>2ede853b14dc4583f96cf5d120af636f</td>\n",
       "      <td>[[0, A fun, fast paced science fiction thrille...</td>\n",
       "      <td>2017-03-20</td>\n",
       "      <td>8842281e1d1347389f2ab93d60773d4d</td>\n",
       "    </tr>\n",
       "    <tr>\n",
       "      <th>3</th>\n",
       "      <td>27161156</td>\n",
       "      <td>False</td>\n",
       "      <td>0</td>\n",
       "      <td>ced5675e55cd9d38a524743f5c40996e</td>\n",
       "      <td>[[0, Recommended reading to understand what is...</td>\n",
       "      <td>2016-11-09</td>\n",
       "      <td>8842281e1d1347389f2ab93d60773d4d</td>\n",
       "    </tr>\n",
       "    <tr>\n",
       "      <th>4</th>\n",
       "      <td>25884323</td>\n",
       "      <td>True</td>\n",
       "      <td>4</td>\n",
       "      <td>332732725863131279a8e345b63ac33e</td>\n",
       "      <td>[[0, I really enjoyed this book, and there is ...</td>\n",
       "      <td>2016-04-25</td>\n",
       "      <td>8842281e1d1347389f2ab93d60773d4d</td>\n",
       "    </tr>\n",
       "  </tbody>\n",
       "</table>\n",
       "</div>"
      ],
      "text/plain": [
       "    book_id  has_spoiler  rating                         review_id  \\\n",
       "0  18245960         True       5  dfdbb7b0eb5a7e4c26d59a937e2e5feb   \n",
       "1     16981        False       3  a5d2c3628987712d0e05c4f90798eb67   \n",
       "2  28684704         True       3  2ede853b14dc4583f96cf5d120af636f   \n",
       "3  27161156        False       0  ced5675e55cd9d38a524743f5c40996e   \n",
       "4  25884323         True       4  332732725863131279a8e345b63ac33e   \n",
       "\n",
       "                                    review_sentences   timestamp  \\\n",
       "0  [[0, This is a special book.], [0, It started ...  2017-08-30   \n",
       "1  [[0, Recommended by Don Katz.], [0, Avail for ...  2017-03-22   \n",
       "2  [[0, A fun, fast paced science fiction thrille...  2017-03-20   \n",
       "3  [[0, Recommended reading to understand what is...  2016-11-09   \n",
       "4  [[0, I really enjoyed this book, and there is ...  2016-04-25   \n",
       "\n",
       "                            user_id  \n",
       "0  8842281e1d1347389f2ab93d60773d4d  \n",
       "1  8842281e1d1347389f2ab93d60773d4d  \n",
       "2  8842281e1d1347389f2ab93d60773d4d  \n",
       "3  8842281e1d1347389f2ab93d60773d4d  \n",
       "4  8842281e1d1347389f2ab93d60773d4d  "
      ]
     },
     "execution_count": 7,
     "metadata": {},
     "output_type": "execute_result"
    }
   ],
   "source": [
    "data.head()\n"
   ]
  },
  {
   "cell_type": "code",
   "execution_count": 8,
   "metadata": {},
   "outputs": [],
   "source": [
    "def plot_correlation_map( df ):\n",
    "    corr = data.corr()\n",
    "    _ , ax = plt.subplots( figsize =( 12 , 10 ) )\n",
    "    cmap = sns.diverging_palette( 220 , 10 , as_cmap = True )\n",
    "    _ = sns.heatmap(\n",
    "        corr, \n",
    "        cmap = cmap,\n",
    "        square=True, \n",
    "        cbar_kws={ 'shrink' : .9 }, \n",
    "        ax=ax, \n",
    "        annot = True, \n",
    "        annot_kws = { 'fontsize' : 12 }\n",
    "    )"
   ]
  },
  {
   "cell_type": "code",
   "execution_count": 9,
   "metadata": {},
   "outputs": [],
   "source": [
    "data=data.drop(columns=['timestamp'],axis=1)"
   ]
  },
  {
   "cell_type": "code",
   "execution_count": 10,
   "metadata": {},
   "outputs": [
    {
     "data": {
      "text/html": [
       "<div>\n",
       "<style scoped>\n",
       "    .dataframe tbody tr th:only-of-type {\n",
       "        vertical-align: middle;\n",
       "    }\n",
       "\n",
       "    .dataframe tbody tr th {\n",
       "        vertical-align: top;\n",
       "    }\n",
       "\n",
       "    .dataframe thead th {\n",
       "        text-align: right;\n",
       "    }\n",
       "</style>\n",
       "<table border=\"1\" class=\"dataframe\">\n",
       "  <thead>\n",
       "    <tr style=\"text-align: right;\">\n",
       "      <th></th>\n",
       "      <th>book_id</th>\n",
       "      <th>has_spoiler</th>\n",
       "      <th>rating</th>\n",
       "      <th>review_id</th>\n",
       "      <th>review_sentences</th>\n",
       "      <th>user_id</th>\n",
       "    </tr>\n",
       "  </thead>\n",
       "  <tbody>\n",
       "    <tr>\n",
       "      <th>0</th>\n",
       "      <td>18245960</td>\n",
       "      <td>True</td>\n",
       "      <td>5</td>\n",
       "      <td>dfdbb7b0eb5a7e4c26d59a937e2e5feb</td>\n",
       "      <td>[[0, This is a special book.], [0, It started ...</td>\n",
       "      <td>8842281e1d1347389f2ab93d60773d4d</td>\n",
       "    </tr>\n",
       "    <tr>\n",
       "      <th>1</th>\n",
       "      <td>16981</td>\n",
       "      <td>False</td>\n",
       "      <td>3</td>\n",
       "      <td>a5d2c3628987712d0e05c4f90798eb67</td>\n",
       "      <td>[[0, Recommended by Don Katz.], [0, Avail for ...</td>\n",
       "      <td>8842281e1d1347389f2ab93d60773d4d</td>\n",
       "    </tr>\n",
       "    <tr>\n",
       "      <th>2</th>\n",
       "      <td>28684704</td>\n",
       "      <td>True</td>\n",
       "      <td>3</td>\n",
       "      <td>2ede853b14dc4583f96cf5d120af636f</td>\n",
       "      <td>[[0, A fun, fast paced science fiction thrille...</td>\n",
       "      <td>8842281e1d1347389f2ab93d60773d4d</td>\n",
       "    </tr>\n",
       "    <tr>\n",
       "      <th>3</th>\n",
       "      <td>27161156</td>\n",
       "      <td>False</td>\n",
       "      <td>0</td>\n",
       "      <td>ced5675e55cd9d38a524743f5c40996e</td>\n",
       "      <td>[[0, Recommended reading to understand what is...</td>\n",
       "      <td>8842281e1d1347389f2ab93d60773d4d</td>\n",
       "    </tr>\n",
       "    <tr>\n",
       "      <th>4</th>\n",
       "      <td>25884323</td>\n",
       "      <td>True</td>\n",
       "      <td>4</td>\n",
       "      <td>332732725863131279a8e345b63ac33e</td>\n",
       "      <td>[[0, I really enjoyed this book, and there is ...</td>\n",
       "      <td>8842281e1d1347389f2ab93d60773d4d</td>\n",
       "    </tr>\n",
       "  </tbody>\n",
       "</table>\n",
       "</div>"
      ],
      "text/plain": [
       "    book_id  has_spoiler  rating                         review_id  \\\n",
       "0  18245960         True       5  dfdbb7b0eb5a7e4c26d59a937e2e5feb   \n",
       "1     16981        False       3  a5d2c3628987712d0e05c4f90798eb67   \n",
       "2  28684704         True       3  2ede853b14dc4583f96cf5d120af636f   \n",
       "3  27161156        False       0  ced5675e55cd9d38a524743f5c40996e   \n",
       "4  25884323         True       4  332732725863131279a8e345b63ac33e   \n",
       "\n",
       "                                    review_sentences  \\\n",
       "0  [[0, This is a special book.], [0, It started ...   \n",
       "1  [[0, Recommended by Don Katz.], [0, Avail for ...   \n",
       "2  [[0, A fun, fast paced science fiction thrille...   \n",
       "3  [[0, Recommended reading to understand what is...   \n",
       "4  [[0, I really enjoyed this book, and there is ...   \n",
       "\n",
       "                            user_id  \n",
       "0  8842281e1d1347389f2ab93d60773d4d  \n",
       "1  8842281e1d1347389f2ab93d60773d4d  \n",
       "2  8842281e1d1347389f2ab93d60773d4d  \n",
       "3  8842281e1d1347389f2ab93d60773d4d  \n",
       "4  8842281e1d1347389f2ab93d60773d4d  "
      ]
     },
     "execution_count": 10,
     "metadata": {},
     "output_type": "execute_result"
    }
   ],
   "source": [
    "data.head()"
   ]
  },
  {
   "cell_type": "code",
   "execution_count": 11,
   "metadata": {},
   "outputs": [],
   "source": [
    "from operator import itemgetter\n",
    "import pandas as pd\n",
    "import numpy as np\n",
    "from sklearn.feature_extraction.text import CountVectorizer\n",
    "from sklearn.feature_selection import mutual_info_classif\n",
    "from sklearn.metrics import accuracy_score, f1_score, precision_score, recall_score\n",
    "from sklearn.model_selection import train_test_split, cross_val_score\n",
    "from sklearn.naive_bayes import GaussianNB, MultinomialNB\n",
    "from sklearn.svm import SVC\n",
    "from sklearn.ensemble import RandomForestClassifier\n",
    "from sklearn.linear_model import LogisticRegression\n",
    "from sklearn.tree import DecisionTreeClassifier"
   ]
  },
  {
   "cell_type": "code",
   "execution_count": 12,
   "metadata": {},
   "outputs": [
    {
     "data": {
      "text/plain": [
       "False    4706\n",
       "True      294\n",
       "Name: has_spoiler, dtype: int64"
      ]
     },
     "execution_count": 12,
     "metadata": {},
     "output_type": "execute_result"
    }
   ],
   "source": [
    "data.has_spoiler.value_counts()"
   ]
  },
  {
   "cell_type": "code",
   "execution_count": 13,
   "metadata": {},
   "outputs": [],
   "source": [
    "\n",
    "from sklearn import preprocessing\n",
    "le = preprocessing.LabelEncoder()\n",
    "data.has_spoiler = le.fit_transform(data.has_spoiler)"
   ]
  },
  {
   "cell_type": "code",
   "execution_count": 14,
   "metadata": {},
   "outputs": [
    {
     "data": {
      "text/html": [
       "<div>\n",
       "<style scoped>\n",
       "    .dataframe tbody tr th:only-of-type {\n",
       "        vertical-align: middle;\n",
       "    }\n",
       "\n",
       "    .dataframe tbody tr th {\n",
       "        vertical-align: top;\n",
       "    }\n",
       "\n",
       "    .dataframe thead th {\n",
       "        text-align: right;\n",
       "    }\n",
       "</style>\n",
       "<table border=\"1\" class=\"dataframe\">\n",
       "  <thead>\n",
       "    <tr style=\"text-align: right;\">\n",
       "      <th></th>\n",
       "      <th>book_id</th>\n",
       "      <th>has_spoiler</th>\n",
       "      <th>rating</th>\n",
       "      <th>review_id</th>\n",
       "      <th>review_sentences</th>\n",
       "      <th>user_id</th>\n",
       "    </tr>\n",
       "  </thead>\n",
       "  <tbody>\n",
       "    <tr>\n",
       "      <th>0</th>\n",
       "      <td>18245960</td>\n",
       "      <td>1</td>\n",
       "      <td>5</td>\n",
       "      <td>dfdbb7b0eb5a7e4c26d59a937e2e5feb</td>\n",
       "      <td>[[0, This is a special book.], [0, It started ...</td>\n",
       "      <td>8842281e1d1347389f2ab93d60773d4d</td>\n",
       "    </tr>\n",
       "    <tr>\n",
       "      <th>1</th>\n",
       "      <td>16981</td>\n",
       "      <td>0</td>\n",
       "      <td>3</td>\n",
       "      <td>a5d2c3628987712d0e05c4f90798eb67</td>\n",
       "      <td>[[0, Recommended by Don Katz.], [0, Avail for ...</td>\n",
       "      <td>8842281e1d1347389f2ab93d60773d4d</td>\n",
       "    </tr>\n",
       "    <tr>\n",
       "      <th>2</th>\n",
       "      <td>28684704</td>\n",
       "      <td>1</td>\n",
       "      <td>3</td>\n",
       "      <td>2ede853b14dc4583f96cf5d120af636f</td>\n",
       "      <td>[[0, A fun, fast paced science fiction thrille...</td>\n",
       "      <td>8842281e1d1347389f2ab93d60773d4d</td>\n",
       "    </tr>\n",
       "    <tr>\n",
       "      <th>3</th>\n",
       "      <td>27161156</td>\n",
       "      <td>0</td>\n",
       "      <td>0</td>\n",
       "      <td>ced5675e55cd9d38a524743f5c40996e</td>\n",
       "      <td>[[0, Recommended reading to understand what is...</td>\n",
       "      <td>8842281e1d1347389f2ab93d60773d4d</td>\n",
       "    </tr>\n",
       "    <tr>\n",
       "      <th>4</th>\n",
       "      <td>25884323</td>\n",
       "      <td>1</td>\n",
       "      <td>4</td>\n",
       "      <td>332732725863131279a8e345b63ac33e</td>\n",
       "      <td>[[0, I really enjoyed this book, and there is ...</td>\n",
       "      <td>8842281e1d1347389f2ab93d60773d4d</td>\n",
       "    </tr>\n",
       "  </tbody>\n",
       "</table>\n",
       "</div>"
      ],
      "text/plain": [
       "    book_id  has_spoiler  rating                         review_id  \\\n",
       "0  18245960            1       5  dfdbb7b0eb5a7e4c26d59a937e2e5feb   \n",
       "1     16981            0       3  a5d2c3628987712d0e05c4f90798eb67   \n",
       "2  28684704            1       3  2ede853b14dc4583f96cf5d120af636f   \n",
       "3  27161156            0       0  ced5675e55cd9d38a524743f5c40996e   \n",
       "4  25884323            1       4  332732725863131279a8e345b63ac33e   \n",
       "\n",
       "                                    review_sentences  \\\n",
       "0  [[0, This is a special book.], [0, It started ...   \n",
       "1  [[0, Recommended by Don Katz.], [0, Avail for ...   \n",
       "2  [[0, A fun, fast paced science fiction thrille...   \n",
       "3  [[0, Recommended reading to understand what is...   \n",
       "4  [[0, I really enjoyed this book, and there is ...   \n",
       "\n",
       "                            user_id  \n",
       "0  8842281e1d1347389f2ab93d60773d4d  \n",
       "1  8842281e1d1347389f2ab93d60773d4d  \n",
       "2  8842281e1d1347389f2ab93d60773d4d  \n",
       "3  8842281e1d1347389f2ab93d60773d4d  \n",
       "4  8842281e1d1347389f2ab93d60773d4d  "
      ]
     },
     "execution_count": 14,
     "metadata": {},
     "output_type": "execute_result"
    }
   ],
   "source": [
    "data.head()"
   ]
  },
  {
   "cell_type": "markdown",
   "metadata": {},
   "source": [
    "**Calculating Book Spoiler Ratio**"
   ]
  },
  {
   "cell_type": "code",
   "execution_count": 16,
   "metadata": {},
   "outputs": [],
   "source": [
    "spoiler_counts = data.groupby(by='book_id').has_spoiler.agg(['sum']).reset_index().rename(columns={'sum':'spoiler_count'})\n",
    "book_total_counts = data.groupby(by='book_id').has_spoiler.agg(['count']).reset_index().rename(columns={'count':'book_total_count'})\n",
    "book_spoiler_ratio = pd.merge(spoiler_counts, book_total_counts, on='book_id')\n",
    "book_spoiler_ratio['book_spoiler_ratio'] = book_spoiler_ratio.spoiler_count / book_spoiler_ratio.book_total_count\n",
    "book_spoiler_ratio.drop(['spoiler_count','book_total_count'], axis=1, inplace=True)\n",
    "#display(book_spoiler_ratio)\n"
   ]
  },
  {
   "cell_type": "code",
   "execution_count": 17,
   "metadata": {},
   "outputs": [
    {
     "data": {
      "text/html": [
       "<div>\n",
       "<style scoped>\n",
       "    .dataframe tbody tr th:only-of-type {\n",
       "        vertical-align: middle;\n",
       "    }\n",
       "\n",
       "    .dataframe tbody tr th {\n",
       "        vertical-align: top;\n",
       "    }\n",
       "\n",
       "    .dataframe thead th {\n",
       "        text-align: right;\n",
       "    }\n",
       "</style>\n",
       "<table border=\"1\" class=\"dataframe\">\n",
       "  <thead>\n",
       "    <tr style=\"text-align: right;\">\n",
       "      <th></th>\n",
       "      <th>book_id</th>\n",
       "      <th>has_spoiler</th>\n",
       "      <th>rating</th>\n",
       "      <th>review_id</th>\n",
       "      <th>review_sentences</th>\n",
       "      <th>user_id</th>\n",
       "      <th>book_spoiler_ratio</th>\n",
       "    </tr>\n",
       "  </thead>\n",
       "  <tbody>\n",
       "    <tr>\n",
       "      <th>0</th>\n",
       "      <td>18245960</td>\n",
       "      <td>1</td>\n",
       "      <td>5</td>\n",
       "      <td>dfdbb7b0eb5a7e4c26d59a937e2e5feb</td>\n",
       "      <td>[[0, This is a special book.], [0, It started ...</td>\n",
       "      <td>8842281e1d1347389f2ab93d60773d4d</td>\n",
       "      <td>1.0</td>\n",
       "    </tr>\n",
       "    <tr>\n",
       "      <th>1</th>\n",
       "      <td>16981</td>\n",
       "      <td>0</td>\n",
       "      <td>3</td>\n",
       "      <td>a5d2c3628987712d0e05c4f90798eb67</td>\n",
       "      <td>[[0, Recommended by Don Katz.], [0, Avail for ...</td>\n",
       "      <td>8842281e1d1347389f2ab93d60773d4d</td>\n",
       "      <td>0.0</td>\n",
       "    </tr>\n",
       "    <tr>\n",
       "      <th>2</th>\n",
       "      <td>28684704</td>\n",
       "      <td>1</td>\n",
       "      <td>3</td>\n",
       "      <td>2ede853b14dc4583f96cf5d120af636f</td>\n",
       "      <td>[[0, A fun, fast paced science fiction thrille...</td>\n",
       "      <td>8842281e1d1347389f2ab93d60773d4d</td>\n",
       "      <td>0.5</td>\n",
       "    </tr>\n",
       "    <tr>\n",
       "      <th>3</th>\n",
       "      <td>28684704</td>\n",
       "      <td>0</td>\n",
       "      <td>5</td>\n",
       "      <td>31db9238ec11ca671a65a50643f952b7</td>\n",
       "      <td>[[0, Mind-bending and completely unique, take ...</td>\n",
       "      <td>01ec1a320ffded6b2dd47833f2c8e4fb</td>\n",
       "      <td>0.5</td>\n",
       "    </tr>\n",
       "    <tr>\n",
       "      <th>4</th>\n",
       "      <td>27161156</td>\n",
       "      <td>0</td>\n",
       "      <td>0</td>\n",
       "      <td>ced5675e55cd9d38a524743f5c40996e</td>\n",
       "      <td>[[0, Recommended reading to understand what is...</td>\n",
       "      <td>8842281e1d1347389f2ab93d60773d4d</td>\n",
       "      <td>0.0</td>\n",
       "    </tr>\n",
       "  </tbody>\n",
       "</table>\n",
       "</div>"
      ],
      "text/plain": [
       "    book_id  has_spoiler  rating                         review_id  \\\n",
       "0  18245960            1       5  dfdbb7b0eb5a7e4c26d59a937e2e5feb   \n",
       "1     16981            0       3  a5d2c3628987712d0e05c4f90798eb67   \n",
       "2  28684704            1       3  2ede853b14dc4583f96cf5d120af636f   \n",
       "3  28684704            0       5  31db9238ec11ca671a65a50643f952b7   \n",
       "4  27161156            0       0  ced5675e55cd9d38a524743f5c40996e   \n",
       "\n",
       "                                    review_sentences  \\\n",
       "0  [[0, This is a special book.], [0, It started ...   \n",
       "1  [[0, Recommended by Don Katz.], [0, Avail for ...   \n",
       "2  [[0, A fun, fast paced science fiction thrille...   \n",
       "3  [[0, Mind-bending and completely unique, take ...   \n",
       "4  [[0, Recommended reading to understand what is...   \n",
       "\n",
       "                            user_id  book_spoiler_ratio  \n",
       "0  8842281e1d1347389f2ab93d60773d4d                 1.0  \n",
       "1  8842281e1d1347389f2ab93d60773d4d                 0.0  \n",
       "2  8842281e1d1347389f2ab93d60773d4d                 0.5  \n",
       "3  01ec1a320ffded6b2dd47833f2c8e4fb                 0.5  \n",
       "4  8842281e1d1347389f2ab93d60773d4d                 0.0  "
      ]
     },
     "execution_count": 17,
     "metadata": {},
     "output_type": "execute_result"
    }
   ],
   "source": [
    "data = pd.merge(data, book_spoiler_ratio, on='book_id')\n",
    "data.head()"
   ]
  },
  {
   "cell_type": "markdown",
   "metadata": {},
   "source": [
    "**Calculating User Spoiler Ratio**"
   ]
  },
  {
   "cell_type": "code",
   "execution_count": 18,
   "metadata": {},
   "outputs": [
    {
     "data": {
      "text/html": [
       "<div>\n",
       "<style scoped>\n",
       "    .dataframe tbody tr th:only-of-type {\n",
       "        vertical-align: middle;\n",
       "    }\n",
       "\n",
       "    .dataframe tbody tr th {\n",
       "        vertical-align: top;\n",
       "    }\n",
       "\n",
       "    .dataframe thead th {\n",
       "        text-align: right;\n",
       "    }\n",
       "</style>\n",
       "<table border=\"1\" class=\"dataframe\">\n",
       "  <thead>\n",
       "    <tr style=\"text-align: right;\">\n",
       "      <th></th>\n",
       "      <th>book_id</th>\n",
       "      <th>has_spoiler</th>\n",
       "      <th>rating</th>\n",
       "      <th>review_id</th>\n",
       "      <th>review_sentences</th>\n",
       "      <th>user_id</th>\n",
       "      <th>book_spoiler_ratio</th>\n",
       "      <th>user_spoiler_ratio</th>\n",
       "    </tr>\n",
       "  </thead>\n",
       "  <tbody>\n",
       "    <tr>\n",
       "      <th>0</th>\n",
       "      <td>18245960</td>\n",
       "      <td>1</td>\n",
       "      <td>5</td>\n",
       "      <td>dfdbb7b0eb5a7e4c26d59a937e2e5feb</td>\n",
       "      <td>[[0, This is a special book.], [0, It started ...</td>\n",
       "      <td>8842281e1d1347389f2ab93d60773d4d</td>\n",
       "      <td>1.0</td>\n",
       "      <td>0.084337</td>\n",
       "    </tr>\n",
       "    <tr>\n",
       "      <th>1</th>\n",
       "      <td>16981</td>\n",
       "      <td>0</td>\n",
       "      <td>3</td>\n",
       "      <td>a5d2c3628987712d0e05c4f90798eb67</td>\n",
       "      <td>[[0, Recommended by Don Katz.], [0, Avail for ...</td>\n",
       "      <td>8842281e1d1347389f2ab93d60773d4d</td>\n",
       "      <td>0.0</td>\n",
       "      <td>0.084337</td>\n",
       "    </tr>\n",
       "    <tr>\n",
       "      <th>2</th>\n",
       "      <td>28684704</td>\n",
       "      <td>1</td>\n",
       "      <td>3</td>\n",
       "      <td>2ede853b14dc4583f96cf5d120af636f</td>\n",
       "      <td>[[0, A fun, fast paced science fiction thrille...</td>\n",
       "      <td>8842281e1d1347389f2ab93d60773d4d</td>\n",
       "      <td>0.5</td>\n",
       "      <td>0.084337</td>\n",
       "    </tr>\n",
       "    <tr>\n",
       "      <th>3</th>\n",
       "      <td>27161156</td>\n",
       "      <td>0</td>\n",
       "      <td>0</td>\n",
       "      <td>ced5675e55cd9d38a524743f5c40996e</td>\n",
       "      <td>[[0, Recommended reading to understand what is...</td>\n",
       "      <td>8842281e1d1347389f2ab93d60773d4d</td>\n",
       "      <td>0.0</td>\n",
       "      <td>0.084337</td>\n",
       "    </tr>\n",
       "    <tr>\n",
       "      <th>4</th>\n",
       "      <td>25884323</td>\n",
       "      <td>1</td>\n",
       "      <td>4</td>\n",
       "      <td>332732725863131279a8e345b63ac33e</td>\n",
       "      <td>[[0, I really enjoyed this book, and there is ...</td>\n",
       "      <td>8842281e1d1347389f2ab93d60773d4d</td>\n",
       "      <td>1.0</td>\n",
       "      <td>0.084337</td>\n",
       "    </tr>\n",
       "  </tbody>\n",
       "</table>\n",
       "</div>"
      ],
      "text/plain": [
       "    book_id  has_spoiler  rating                         review_id  \\\n",
       "0  18245960            1       5  dfdbb7b0eb5a7e4c26d59a937e2e5feb   \n",
       "1     16981            0       3  a5d2c3628987712d0e05c4f90798eb67   \n",
       "2  28684704            1       3  2ede853b14dc4583f96cf5d120af636f   \n",
       "3  27161156            0       0  ced5675e55cd9d38a524743f5c40996e   \n",
       "4  25884323            1       4  332732725863131279a8e345b63ac33e   \n",
       "\n",
       "                                    review_sentences  \\\n",
       "0  [[0, This is a special book.], [0, It started ...   \n",
       "1  [[0, Recommended by Don Katz.], [0, Avail for ...   \n",
       "2  [[0, A fun, fast paced science fiction thrille...   \n",
       "3  [[0, Recommended reading to understand what is...   \n",
       "4  [[0, I really enjoyed this book, and there is ...   \n",
       "\n",
       "                            user_id  book_spoiler_ratio  user_spoiler_ratio  \n",
       "0  8842281e1d1347389f2ab93d60773d4d                 1.0            0.084337  \n",
       "1  8842281e1d1347389f2ab93d60773d4d                 0.0            0.084337  \n",
       "2  8842281e1d1347389f2ab93d60773d4d                 0.5            0.084337  \n",
       "3  8842281e1d1347389f2ab93d60773d4d                 0.0            0.084337  \n",
       "4  8842281e1d1347389f2ab93d60773d4d                 1.0            0.084337  "
      ]
     },
     "execution_count": 18,
     "metadata": {},
     "output_type": "execute_result"
    }
   ],
   "source": [
    "user_spoiler_counts = data.groupby(by='user_id').has_spoiler.agg(['sum']).reset_index().rename(columns={'sum':'user_spoiler_count'})\n",
    "user_total_counts = data.groupby(by='user_id').has_spoiler.agg(['count']).reset_index().rename(columns={'count':'user_total_count'})\n",
    "user_spoiler_ratio = pd.merge(user_spoiler_counts, user_total_counts, on='user_id')\n",
    "user_spoiler_ratio['user_spoiler_ratio'] = user_spoiler_ratio.user_spoiler_count / user_spoiler_ratio.user_total_count\n",
    "user_spoiler_ratio.drop(['user_spoiler_count','user_total_count'], axis=1, inplace=True)\n",
    "#display(user_spoiler_ratio.sample(frac=1))\n",
    "data = pd.merge(data, user_spoiler_ratio, on='user_id')\n",
    "data.head()"
   ]
  },
  {
   "cell_type": "code",
   "execution_count": null,
   "metadata": {},
   "outputs": [],
   "source": []
  },
  {
   "cell_type": "code",
   "execution_count": 19,
   "metadata": {},
   "outputs": [],
   "source": [
    "import pandas as pd\n",
    "import numpy as np\n",
    "import seaborn as sns\n",
    "import matplotlib.pyplot as plt\n",
    "\n",
    "from datetime import datetime\n",
    "import re\n",
    "from wordcloud import WordCloud, STOPWORDS\n",
    "\n",
    "from sklearn import preprocessing\n",
    "from sklearn.model_selection import train_test_split\n",
    "from sklearn.metrics import classification_report, precision_recall_curve\n",
    "\n",
    "import re\n",
    "import nltk\n",
    "from nltk.corpus import stopwords\n",
    "from nltk import FreqDist"
   ]
  },
  {
   "cell_type": "markdown",
   "metadata": {},
   "source": [
    "**Plotting correlation Matrix**"
   ]
  },
  {
   "cell_type": "code",
   "execution_count": 20,
   "metadata": {
    "scrolled": false
   },
   "outputs": [
    {
     "data": {
      "text/html": [
       "<div>\n",
       "<style scoped>\n",
       "    .dataframe tbody tr th:only-of-type {\n",
       "        vertical-align: middle;\n",
       "    }\n",
       "\n",
       "    .dataframe tbody tr th {\n",
       "        vertical-align: top;\n",
       "    }\n",
       "\n",
       "    .dataframe thead th {\n",
       "        text-align: right;\n",
       "    }\n",
       "</style>\n",
       "<table border=\"1\" class=\"dataframe\">\n",
       "  <thead>\n",
       "    <tr style=\"text-align: right;\">\n",
       "      <th></th>\n",
       "      <th>has_spoiler</th>\n",
       "      <th>rating</th>\n",
       "      <th>book_spoiler_ratio</th>\n",
       "      <th>user_spoiler_ratio</th>\n",
       "    </tr>\n",
       "  </thead>\n",
       "  <tbody>\n",
       "    <tr>\n",
       "      <th>count</th>\n",
       "      <td>5000.000000</td>\n",
       "      <td>5000.000000</td>\n",
       "      <td>5000.000000</td>\n",
       "      <td>5000.000000</td>\n",
       "    </tr>\n",
       "    <tr>\n",
       "      <th>mean</th>\n",
       "      <td>0.058800</td>\n",
       "      <td>3.877000</td>\n",
       "      <td>0.058800</td>\n",
       "      <td>0.058800</td>\n",
       "    </tr>\n",
       "    <tr>\n",
       "      <th>std</th>\n",
       "      <td>0.235274</td>\n",
       "      <td>1.118625</td>\n",
       "      <td>0.199986</td>\n",
       "      <td>0.078583</td>\n",
       "    </tr>\n",
       "    <tr>\n",
       "      <th>min</th>\n",
       "      <td>0.000000</td>\n",
       "      <td>0.000000</td>\n",
       "      <td>0.000000</td>\n",
       "      <td>0.000000</td>\n",
       "    </tr>\n",
       "    <tr>\n",
       "      <th>25%</th>\n",
       "      <td>0.000000</td>\n",
       "      <td>3.000000</td>\n",
       "      <td>0.000000</td>\n",
       "      <td>0.001736</td>\n",
       "    </tr>\n",
       "    <tr>\n",
       "      <th>50%</th>\n",
       "      <td>0.000000</td>\n",
       "      <td>4.000000</td>\n",
       "      <td>0.000000</td>\n",
       "      <td>0.017699</td>\n",
       "    </tr>\n",
       "    <tr>\n",
       "      <th>75%</th>\n",
       "      <td>0.000000</td>\n",
       "      <td>5.000000</td>\n",
       "      <td>0.000000</td>\n",
       "      <td>0.093750</td>\n",
       "    </tr>\n",
       "    <tr>\n",
       "      <th>max</th>\n",
       "      <td>1.000000</td>\n",
       "      <td>5.000000</td>\n",
       "      <td>1.000000</td>\n",
       "      <td>1.000000</td>\n",
       "    </tr>\n",
       "  </tbody>\n",
       "</table>\n",
       "</div>"
      ],
      "text/plain": [
       "       has_spoiler       rating  book_spoiler_ratio  user_spoiler_ratio\n",
       "count  5000.000000  5000.000000         5000.000000         5000.000000\n",
       "mean      0.058800     3.877000            0.058800            0.058800\n",
       "std       0.235274     1.118625            0.199986            0.078583\n",
       "min       0.000000     0.000000            0.000000            0.000000\n",
       "25%       0.000000     3.000000            0.000000            0.001736\n",
       "50%       0.000000     4.000000            0.000000            0.017699\n",
       "75%       0.000000     5.000000            0.000000            0.093750\n",
       "max       1.000000     5.000000            1.000000            1.000000"
      ]
     },
     "execution_count": 20,
     "metadata": {},
     "output_type": "execute_result"
    }
   ],
   "source": [
    "data.describe()"
   ]
  },
  {
   "cell_type": "code",
   "execution_count": 21,
   "metadata": {},
   "outputs": [
    {
     "data": {
      "image/png": "[encoded data removed]",
      "text/plain": [
       "<Figure size 864x720 with 2 Axes>"
      ]
     },
     "metadata": {},
     "output_type": "display_data"
    }
   ],
   "source": [
    "plot_correlation_map( data )\n"
   ]
  },
  {
   "cell_type": "markdown",
   "metadata": {},
   "source": [
    "**Text Mining**"
   ]
  },
  {
   "cell_type": "code",
   "execution_count": 22,
   "metadata": {},
   "outputs": [],
   "source": [
    "def preprocess_text(review):\n",
    "    listToStr = ' '.join(map(str, review))\n",
    "    listToStr = listToStr.lower() # Convert to lowercase\n",
    "    listToStr = re.sub('[^a-zA-Z]',' ', listToStr) # Remove words with non-letter characters\n",
    "    words = listToStr.split()\n",
    "    words = [word for word in words if word not in set(stopwords.words('english'))] # Remove stop words\n",
    "    listToStr = \" \".join(words)\n",
    "    return listToStr"
   ]
  },
  {
   "cell_type": "code",
   "execution_count": null,
   "metadata": {},
   "outputs": [],
   "source": [
    "data['processed_review'] = data.review_sentences.apply(preprocess_text)"
   ]
  },
  {
   "cell_type": "code",
   "execution_count": null,
   "metadata": {},
   "outputs": [],
   "source": [
    "data=data.drop(columns=['review_sentences'],axis=1)"
   ]
  },
  {
   "cell_type": "code",
   "execution_count": null,
   "metadata": {},
   "outputs": [],
   "source": [
    "from sklearn.feature_extraction.text import CountVectorizer, TfidfTransformer, TfidfVectorizer\n",
    "X=data['processed_review']\n",
    "bow_transformer = CountVectorizer(analyzer=preprocess_text).fit(X)\n",
    "\n",
    "X = bow_transformer.transform(X)\n"
   ]
  },
  {
   "cell_type": "code",
   "execution_count": null,
   "metadata": {},
   "outputs": [],
   "source": [
    "data['transformed']=X\n"
   ]
  },
  {
   "cell_type": "code",
   "execution_count": null,
   "metadata": {},
   "outputs": [],
   "source": [
    "data['rating'] = (data.rating - data.rating.min()) / (data.rating.max() - data.rating.min())\n",
    "data=data.drop(columns=['processed_review'],axis=1)\n",
    "data.head()"
   ]
  },
  {
   "cell_type": "markdown",
   "metadata": {},
   "source": [
    "**Train test split**"
   ]
  },
  {
   "cell_type": "code",
   "execution_count": 203,
   "metadata": {},
   "outputs": [],
   "source": [
    "y=data['has_spoiler']\n",
    "data=data.drop(columns=['has_spoiler'],axis=1)\n",
    "X_train, X_test, y_train, y_test = train_test_split(X, y, test_size=0.3)\n"
   ]
  },
  {
   "cell_type": "code",
   "execution_count": null,
   "metadata": {},
   "outputs": [],
   "source": []
  },
  {
   "cell_type": "markdown",
   "metadata": {},
   "source": [
    "**Machine Learning Models**"
   ]
  },
  {
   "cell_type": "code",
   "execution_count": 206,
   "metadata": {},
   "outputs": [
    {
     "name": "stderr",
     "output_type": "stream",
     "text": [
      "C:\\Users\\Gautam\\Anaconda3\\lib\\site-packages\\sklearn\\svm\\base.py:196: FutureWarning: The default value of gamma will change from 'auto' to 'scale' in version 0.22 to account better for unscaled features. Set gamma explicitly to 'auto' or 'scale' to avoid this warning.\n",
      "  \"avoid this warning.\", FutureWarning)\n"
     ]
    },
    {
     "name": "stdout",
     "output_type": "stream",
     "text": [
      "0.9473333333333334\n"
     ]
    }
   ],
   "source": [
    "model = SVC()\n",
    "model.fit(X_train, y_train)\n",
    "preds = model.predict(X_test)\n",
    "from sklearn import metrics\n",
    "print(metrics.accuracy_score(y_test, preds))\n",
    "#data.review_sentences.apply(pd.Series)"
   ]
  },
  {
   "cell_type": "code",
   "execution_count": 207,
   "metadata": {},
   "outputs": [
    {
     "name": "stdout",
     "output_type": "stream",
     "text": [
      "0.936\n"
     ]
    }
   ],
   "source": [
    "model = MultinomialNB()\n",
    "model.fit(X_train, y_train)\n",
    "preds = model.predict(X_test)\n",
    "from sklearn import metrics\n",
    "print(metrics.accuracy_score(y_test, preds))"
   ]
  },
  {
   "cell_type": "code",
   "execution_count": 134,
   "metadata": {},
   "outputs": [
    {
     "name": "stderr",
     "output_type": "stream",
     "text": [
      "C:\\Users\\Gautam\\Anaconda3\\lib\\site-packages\\sklearn\\metrics\\classification.py:1143: UndefinedMetricWarning: F-score is ill-defined and being set to 0.0 in labels with no predicted samples.\n",
      "  'precision', 'predicted', average, warn_for)\n"
     ]
    },
    {
     "data": {
      "text/plain": [
       "array([0.97330595, 0.        ])"
      ]
     },
     "execution_count": 134,
     "metadata": {},
     "output_type": "execute_result"
    }
   ],
   "source": [
    "f1_score(y_test, preds,average=None)"
   ]
  },
  {
   "cell_type": "code",
   "execution_count": 135,
   "metadata": {},
   "outputs": [
    {
     "name": "stdout",
     "output_type": "stream",
     "text": [
      "[[1422    0]\n",
      " [  78    0]]\n",
      "              precision    recall  f1-score   support\n",
      "\n",
      "           0       0.95      1.00      0.97      1422\n",
      "           1       0.00      0.00      0.00        78\n",
      "\n",
      "   micro avg       0.95      0.95      0.95      1500\n",
      "   macro avg       0.47      0.50      0.49      1500\n",
      "weighted avg       0.90      0.95      0.92      1500\n",
      "\n"
     ]
    },
    {
     "name": "stderr",
     "output_type": "stream",
     "text": [
      "C:\\Users\\Gautam\\Anaconda3\\lib\\site-packages\\sklearn\\metrics\\classification.py:1143: UndefinedMetricWarning: Precision and F-score are ill-defined and being set to 0.0 in labels with no predicted samples.\n",
      "  'precision', 'predicted', average, warn_for)\n",
      "C:\\Users\\Gautam\\Anaconda3\\lib\\site-packages\\sklearn\\metrics\\classification.py:1143: UndefinedMetricWarning: Precision and F-score are ill-defined and being set to 0.0 in labels with no predicted samples.\n",
      "  'precision', 'predicted', average, warn_for)\n",
      "C:\\Users\\Gautam\\Anaconda3\\lib\\site-packages\\sklearn\\metrics\\classification.py:1143: UndefinedMetricWarning: Precision and F-score are ill-defined and being set to 0.0 in labels with no predicted samples.\n",
      "  'precision', 'predicted', average, warn_for)\n"
     ]
    }
   ],
   "source": [
    "from sklearn.metrics import confusion_matrix, classification_report,accuracy_score\n",
    "confusion_matrix_clf=confusion_matrix(y_test, preds)\n",
    "print(confusion_matrix_clf)\n",
    "print(classification_report(y_test, preds))"
   ]
  },
  {
   "cell_type": "code",
   "execution_count": null,
   "metadata": {},
   "outputs": [],
   "source": []
  }
 ],
 "metadata": {
  "celltoolbar": "Raw Cell Format",
  "kernelspec": {
   "display_name": "Python 3",
   "language": "python",
   "name": "python3"
  },
  "language_info": {
   "codemirror_mode": {
    "name": "ipython",
    "version": 3
   },
   "file_extension": ".py",
   "mimetype": "text/x-python",
   "name": "python",
   "nbconvert_exporter": "python",
   "pygments_lexer": "ipython3",
   "version": "3.6.5"
  }
 },
 "nbformat": 4,
 "nbformat_minor": 2
}
